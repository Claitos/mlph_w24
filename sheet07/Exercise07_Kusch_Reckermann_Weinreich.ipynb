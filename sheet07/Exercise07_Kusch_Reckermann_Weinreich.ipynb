{
 "cells": [
  {
   "cell_type": "markdown",
   "metadata": {},
   "source": [
    "# 7.1"
   ]
  },
  {
   "cell_type": "markdown",
   "metadata": {},
   "source": [
    "## (d)"
   ]
  },
  {
   "cell_type": "code",
   "execution_count": 2,
   "metadata": {},
   "outputs": [],
   "source": [
    "import torch"
   ]
  },
  {
   "cell_type": "code",
   "execution_count": 4,
   "metadata": {},
   "outputs": [
    {
     "name": "stdout",
     "output_type": "stream",
     "text": [
      "df6/dx: 48.756893157958984\n"
     ]
    }
   ],
   "source": [
    "x = torch.tensor(3.0, requires_grad=True)\n",
    "c = torch.tensor(5.0, requires_grad=True)\n",
    "\n",
    "f1 = x**2\n",
    "f2 = torch.log(x)\n",
    "f3 = f1 / f2\n",
    "f4 = f3 + c\n",
    "f5 = f3 - c\n",
    "f6 = f4 * f5\n",
    "\n",
    "# Backward computation\n",
    "f6.backward()\n",
    "\n",
    "# Print gradients\n",
    "print(f\"df6/dx: {x.grad}\")\n"
   ]
  }
 ],
 "metadata": {
  "kernelspec": {
   "display_name": "base",
   "language": "python",
   "name": "python3"
  },
  "language_info": {
   "codemirror_mode": {
    "name": "ipython",
    "version": 3
   },
   "file_extension": ".py",
   "mimetype": "text/x-python",
   "name": "python",
   "nbconvert_exporter": "python",
   "pygments_lexer": "ipython3",
   "version": "3.11.7"
  }
 },
 "nbformat": 4,
 "nbformat_minor": 2
}
